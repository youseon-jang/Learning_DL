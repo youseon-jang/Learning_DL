{
 "cells": [
  {
   "cell_type": "markdown",
   "id": "16681e45-6972-4cc3-bc44-7f8328fd7a45",
   "metadata": {},
   "source": [
    "- 텐서 : 다차원 배열\n",
    "- array | 1차원 배열 : 벡터, 2차원 배열 : 행렬, 3차원 이상 배열 : 텐서\n",
    "- 텐서(tensor) 안에 1, 2차원 백터도 포함됨. 텐서가 더 큰 개념임\n",
    "- 딥러닝에서 텐서는 넘파이로 다룸"
   ]
  },
  {
   "cell_type": "code",
   "execution_count": 2,
   "id": "b3285df0-e095-4193-936a-87ac07e6594f",
   "metadata": {},
   "outputs": [],
   "source": [
    "from keras.datasets import mnist\n",
    "(train_images, train_labels), (test_images, test_labels) = mnist.load_data()"
   ]
  },
  {
   "cell_type": "code",
   "execution_count": 11,
   "id": "6f1e3b0f-b6fe-4678-86b6-3fc50364f96d",
   "metadata": {},
   "outputs": [
    {
     "name": "stdout",
     "output_type": "stream",
     "text": [
      "3\n",
      "(60000, 28, 28)\n",
      "uint8\n"
     ]
    }
   ],
   "source": [
    "print(train_images.ndim)\n",
    "\n",
    "print(train_images.shape)\n",
    "## 60000개의 사진(장 수), 28*28은 한 장에 대한 height, width(, color여부)\n",
    "\n",
    "print(train_images.dtype)  \n",
    "## u : unsigned(+/- 부호가 없음), int : 정수, 8 : 8비트\n",
    "## 8bit = 1 Byte\n",
    "## 2**8 = 256\n",
    "## 256가지의 서로 다른 경우의 수를 표현할 수 있음(부호가 없으므로 0 ~ 255 사이의 수)"
   ]
  },
  {
   "cell_type": "code",
   "execution_count": 10,
   "id": "19422299-77a8-4e65-a362-e8941c9793db",
   "metadata": {},
   "outputs": [
    {
     "data": {
      "image/png": "[encoded data removed]",
      "text/plain": [
       "<Figure size 640x480 with 1 Axes>"
      ]
     },
     "metadata": {},
     "output_type": "display_data"
    },
    {
     "name": "stdout",
     "output_type": "stream",
     "text": [
      "9\n"
     ]
    }
   ],
   "source": [
    "### 이미지 출력하기\n",
    "import matplotlib.pyplot as plt\n",
    "\n",
    "digit = train_images[4]\n",
    "plt.imshow(digit, cmap = plt.cm.binary)\n",
    "plt.show()\n",
    "print(train_labels[4])"
   ]
  },
  {
   "cell_type": "code",
   "execution_count": 16,
   "id": "337ac9c2-20d0-42d3-881f-6199a209b911",
   "metadata": {},
   "outputs": [
    {
     "name": "stdout",
     "output_type": "stream",
     "text": [
      "100\n",
      "100\n"
     ]
    }
   ],
   "source": [
    "## 100장 씩 묶어서 뽑기(0~100, 100~200)\n",
    "slice_1 = train_images[:100]\n",
    "slice_2 = train_images[100:200]\n",
    "\n",
    "print(len(slice_1))\n",
    "print(len(slice_2))"
   ]
  },
  {
   "cell_type": "code",
   "execution_count": 18,
   "id": "4cd052d2-c88d-4852-bb74-622405e5121c",
   "metadata": {},
   "outputs": [
    {
     "data": {
      "text/plain": [
       "600.0"
      ]
     },
     "execution_count": 18,
     "metadata": {},
     "output_type": "execute_result"
    }
   ],
   "source": [
    "len(train_images)/100"
   ]
  },
  {
   "cell_type": "code",
   "execution_count": 47,
   "id": "6b04e83d-0a83-4dd4-918c-cefeffc0cb91",
   "metadata": {},
   "outputs": [
    {
     "data": {
      "text/plain": [
       "array([[[0, 0, 0, ..., 0, 0, 0],\n",
       "        [0, 0, 0, ..., 0, 0, 0],\n",
       "        [0, 0, 0, ..., 0, 0, 0],\n",
       "        ...,\n",
       "        [0, 0, 0, ..., 0, 0, 0],\n",
       "        [0, 0, 0, ..., 0, 0, 0],\n",
       "        [0, 0, 0, ..., 0, 0, 0]],\n",
       "\n",
       "       [[0, 0, 0, ..., 0, 0, 0],\n",
       "        [0, 0, 0, ..., 0, 0, 0],\n",
       "        [0, 0, 0, ..., 0, 0, 0],\n",
       "        ...,\n",
       "        [0, 0, 0, ..., 0, 0, 0],\n",
       "        [0, 0, 0, ..., 0, 0, 0],\n",
       "        [0, 0, 0, ..., 0, 0, 0]],\n",
       "\n",
       "       [[0, 0, 0, ..., 0, 0, 0],\n",
       "        [0, 0, 0, ..., 0, 0, 0],\n",
       "        [0, 0, 0, ..., 0, 0, 0],\n",
       "        ...,\n",
       "        [0, 0, 0, ..., 0, 0, 0],\n",
       "        [0, 0, 0, ..., 0, 0, 0],\n",
       "        [0, 0, 0, ..., 0, 0, 0]],\n",
       "\n",
       "       ...,\n",
       "\n",
       "       [[0, 0, 0, ..., 0, 0, 0],\n",
       "        [0, 0, 0, ..., 0, 0, 0],\n",
       "        [0, 0, 0, ..., 0, 0, 0],\n",
       "        ...,\n",
       "        [0, 0, 0, ..., 0, 0, 0],\n",
       "        [0, 0, 0, ..., 0, 0, 0],\n",
       "        [0, 0, 0, ..., 0, 0, 0]],\n",
       "\n",
       "       [[0, 0, 0, ..., 0, 0, 0],\n",
       "        [0, 0, 0, ..., 0, 0, 0],\n",
       "        [0, 0, 0, ..., 0, 0, 0],\n",
       "        ...,\n",
       "        [0, 0, 0, ..., 0, 0, 0],\n",
       "        [0, 0, 0, ..., 0, 0, 0],\n",
       "        [0, 0, 0, ..., 0, 0, 0]],\n",
       "\n",
       "       [[0, 0, 0, ..., 0, 0, 0],\n",
       "        [0, 0, 0, ..., 0, 0, 0],\n",
       "        [0, 0, 0, ..., 0, 0, 0],\n",
       "        ...,\n",
       "        [0, 0, 0, ..., 0, 0, 0],\n",
       "        [0, 0, 0, ..., 0, 0, 0],\n",
       "        [0, 0, 0, ..., 0, 0, 0]]], dtype=uint8)"
      ]
     },
     "execution_count": 47,
     "metadata": {},
     "output_type": "execute_result"
    }
   ],
   "source": [
    "slice_ = {}\n",
    "\n",
    "for n in range(int(len(train_images)/100)):\n",
    "    slice_[n] = train_images[100*n : 100*(n+1)]\n",
    "\n",
    "slice_[1]"
   ]
  },
  {
   "cell_type": "code",
   "execution_count": 31,
   "id": "245024cd-8708-4801-bc80-0d52cfba735e",
   "metadata": {},
   "outputs": [],
   "source": [
    "n = 100\n",
    "for i in range(1,11):\n",
    "    globals()[f'slice_{i}'] = train_images[n-100:n]\n",
    "    n += 100 "
   ]
  },
  {
   "cell_type": "code",
   "execution_count": 48,
   "id": "c1a2b4ea-b06d-4be9-9372-ac055452be0f",
   "metadata": {},
   "outputs": [],
   "source": [
    "for i in range(1,11):\n",
    "    locals()[f'slice_{i}'] = train_images[100*n : 100*(n+1)]\n",
    "    n += 100 "
   ]
  },
  {
   "cell_type": "markdown",
   "id": "c1216453-d7cf-45e9-9ee2-443c3d979346",
   "metadata": {},
   "source": [
    "# 영화 리뷰 분류 : 이진 분류 문제"
   ]
  },
  {
   "cell_type": "code",
   "execution_count": 49,
   "id": "f99e3905-629b-4c77-b51c-1211bf5bbe11",
   "metadata": {},
   "outputs": [
    {
     "name": "stdout",
     "output_type": "stream",
     "text": [
      "Downloading data from https://storage.googleapis.com/tensorflow/tf-keras-datasets/imdb.npz\n",
      "17464789/17464789 [==============================] - 0s 0us/step\n"
     ]
    }
   ],
   "source": [
    "from keras.datasets import imdb\n",
    "\n",
    "(train_data, train_labels), (test_data, test_labels) = imdb.load_data(num_words = 10000)\n",
    "## num_words = 10000 : 훈련 데이터에서 가장 자주 나타나는 단어 1만 개만 사용하겠다는 의미\n",
    "## 이렇게 하면 적절한 크기의 벡터 데이터를 얻을 수 있음"
   ]
  },
  {
   "cell_type": "code",
   "execution_count": 50,
   "id": "94697c1f-293d-4269-9d1a-eb3adf210cf2",
   "metadata": {},
   "outputs": [
    {
     "data": {
      "text/plain": [
       "(25000,)"
      ]
     },
     "execution_count": 50,
     "metadata": {},
     "output_type": "execute_result"
    }
   ],
   "source": [
    "train_data.shape"
   ]
  },
  {
   "cell_type": "code",
   "execution_count": 55,
   "id": "ef04f313-9791-4469-ba92-97b5d03e8005",
   "metadata": {
    "collapsed": true,
    "jupyter": {
     "outputs_hidden": true
    },
    "tags": []
   },
   "outputs": [
    {
     "data": {
      "text/plain": [
       "[1,\n",
       " 14,\n",
       " 22,\n",
       " 16,\n",
       " 43,\n",
       " 530,\n",
       " 973,\n",
       " 1622,\n",
       " 1385,\n",
       " 65,\n",
       " 458,\n",
       " 4468,\n",
       " 66,\n",
       " 3941,\n",
       " 4,\n",
       " 173,\n",
       " 36,\n",
       " 256,\n",
       " 5,\n",
       " 25,\n",
       " 100,\n",
       " 43,\n",
       " 838,\n",
       " 112,\n",
       " 50,\n",
       " 670,\n",
       " 2,\n",
       " 9,\n",
       " 35,\n",
       " 480,\n",
       " 284,\n",
       " 5,\n",
       " 150,\n",
       " 4,\n",
       " 172,\n",
       " 112,\n",
       " 167,\n",
       " 2,\n",
       " 336,\n",
       " 385,\n",
       " 39,\n",
       " 4,\n",
       " 172,\n",
       " 4536,\n",
       " 1111,\n",
       " 17,\n",
       " 546,\n",
       " 38,\n",
       " 13,\n",
       " 447,\n",
       " 4,\n",
       " 192,\n",
       " 50,\n",
       " 16,\n",
       " 6,\n",
       " 147,\n",
       " 2025,\n",
       " 19,\n",
       " 14,\n",
       " 22,\n",
       " 4,\n",
       " 1920,\n",
       " 4613,\n",
       " 469,\n",
       " 4,\n",
       " 22,\n",
       " 71,\n",
       " 87,\n",
       " 12,\n",
       " 16,\n",
       " 43,\n",
       " 530,\n",
       " 38,\n",
       " 76,\n",
       " 15,\n",
       " 13,\n",
       " 1247,\n",
       " 4,\n",
       " 22,\n",
       " 17,\n",
       " 515,\n",
       " 17,\n",
       " 12,\n",
       " 16,\n",
       " 626,\n",
       " 18,\n",
       " 2,\n",
       " 5,\n",
       " 62,\n",
       " 386,\n",
       " 12,\n",
       " 8,\n",
       " 316,\n",
       " 8,\n",
       " 106,\n",
       " 5,\n",
       " 4,\n",
       " 2223,\n",
       " 5244,\n",
       " 16,\n",
       " 480,\n",
       " 66,\n",
       " 3785,\n",
       " 33,\n",
       " 4,\n",
       " 130,\n",
       " 12,\n",
       " 16,\n",
       " 38,\n",
       " 619,\n",
       " 5,\n",
       " 25,\n",
       " 124,\n",
       " 51,\n",
       " 36,\n",
       " 135,\n",
       " 48,\n",
       " 25,\n",
       " 1415,\n",
       " 33,\n",
       " 6,\n",
       " 22,\n",
       " 12,\n",
       " 215,\n",
       " 28,\n",
       " 77,\n",
       " 52,\n",
       " 5,\n",
       " 14,\n",
       " 407,\n",
       " 16,\n",
       " 82,\n",
       " 2,\n",
       " 8,\n",
       " 4,\n",
       " 107,\n",
       " 117,\n",
       " 5952,\n",
       " 15,\n",
       " 256,\n",
       " 4,\n",
       " 2,\n",
       " 7,\n",
       " 3766,\n",
       " 5,\n",
       " 723,\n",
       " 36,\n",
       " 71,\n",
       " 43,\n",
       " 530,\n",
       " 476,\n",
       " 26,\n",
       " 400,\n",
       " 317,\n",
       " 46,\n",
       " 7,\n",
       " 4,\n",
       " 2,\n",
       " 1029,\n",
       " 13,\n",
       " 104,\n",
       " 88,\n",
       " 4,\n",
       " 381,\n",
       " 15,\n",
       " 297,\n",
       " 98,\n",
       " 32,\n",
       " 2071,\n",
       " 56,\n",
       " 26,\n",
       " 141,\n",
       " 6,\n",
       " 194,\n",
       " 7486,\n",
       " 18,\n",
       " 4,\n",
       " 226,\n",
       " 22,\n",
       " 21,\n",
       " 134,\n",
       " 476,\n",
       " 26,\n",
       " 480,\n",
       " 5,\n",
       " 144,\n",
       " 30,\n",
       " 5535,\n",
       " 18,\n",
       " 51,\n",
       " 36,\n",
       " 28,\n",
       " 224,\n",
       " 92,\n",
       " 25,\n",
       " 104,\n",
       " 4,\n",
       " 226,\n",
       " 65,\n",
       " 16,\n",
       " 38,\n",
       " 1334,\n",
       " 88,\n",
       " 12,\n",
       " 16,\n",
       " 283,\n",
       " 5,\n",
       " 16,\n",
       " 4472,\n",
       " 113,\n",
       " 103,\n",
       " 32,\n",
       " 15,\n",
       " 16,\n",
       " 5345,\n",
       " 19,\n",
       " 178,\n",
       " 32]"
      ]
     },
     "execution_count": 55,
     "metadata": {},
     "output_type": "execute_result"
    }
   ],
   "source": [
    "train_data[0]"
   ]
  },
  {
   "cell_type": "code",
   "execution_count": 57,
   "id": "d0c48c6e-368b-4f21-9222-169cd309829c",
   "metadata": {},
   "outputs": [
    {
     "data": {
      "text/plain": [
       "218"
      ]
     },
     "execution_count": 57,
     "metadata": {},
     "output_type": "execute_result"
    }
   ],
   "source": [
    "len(train_data[0])\n",
    "## 218개의 문자로 이루어짐"
   ]
  },
  {
   "cell_type": "code",
   "execution_count": 58,
   "id": "bceadbef-52ea-43c4-ac70-91107a56bf8a",
   "metadata": {},
   "outputs": [
    {
     "name": "stdout",
     "output_type": "stream",
     "text": [
      "Downloading data from https://storage.googleapis.com/tensorflow/tf-keras-datasets/imdb_word_index.json\n",
      "1641221/1641221 [==============================] - 0s 0us/step\n"
     ]
    }
   ],
   "source": [
    "### 리뷰를 다시 텍스트로 디코딩하기\n",
    "word_index = imdb.get_word_index() # word_index는 단어와 정수 인덱스를 매칭한 딕셔너리\n",
    "\n",
    "reverse_word_index = dict(                          ## 정수 인덱스와 단어를 매핑하도록 뒤집기\n",
    "                    [(value, key) for (key, value) in word_index.items()])\n",
    "\n",
    "decoded_review = \" \".join(\n",
    "                    [reverse_word_index.get(i - 3, \"?\") for i in train_data[0]])"
   ]
  },
  {
   "cell_type": "code",
   "execution_count": 83,
   "id": "d8a79809-7aad-430d-8d1e-d6aae82a90a5",
   "metadata": {},
   "outputs": [],
   "source": [
    "### 정수 시퀀스를 멀티-핫 인코딩으로 인코딩하기\n",
    "import numpy as np\n",
    "\n",
    "def vectorize_sequences(sequences, dimension = 10000):\n",
    "    results = np.zeros((len(sequences), dimension))\n",
    "    for i, sequence in enumerate(sequences):\n",
    "        for j in sequence:\n",
    "            results[i, j] = 1.\n",
    "        return results\n",
    "    \n",
    "x_train = vectorize_sequences(train_data)\n",
    "x_test = vectorize_sequences(test_data)\n",
    "\n",
    "y_train = np.asarray(train_labels).astype('float32')\n",
    "y_test = np.asarray(test_labels).astype('float32')"
   ]
  },
  {
   "cell_type": "code",
   "execution_count": 84,
   "id": "ac5a01e5-5a9c-4e99-bd49-a3730b3eb15a",
   "metadata": {},
   "outputs": [
    {
     "data": {
      "text/plain": [
       "(25000, 10000)"
      ]
     },
     "execution_count": 84,
     "metadata": {},
     "output_type": "execute_result"
    }
   ],
   "source": [
    "x_train.shape"
   ]
  },
  {
   "cell_type": "code",
   "execution_count": 85,
   "id": "832f6506-6d8c-4dce-8a7b-1600c2137f97",
   "metadata": {},
   "outputs": [],
   "source": [
    "### 모델 정의하기\n",
    "from keras import Sequential\n",
    "from keras.layers import Dense\n",
    "\n",
    "model = Sequential()\n",
    "\n",
    "model.add(Dense(16, activation = 'relu'))\n",
    "model.add(Dense(15, activation = 'relu'))\n",
    "model.add(Dense(1, activation = 'sigmoid'))"
   ]
  },
  {
   "cell_type": "code",
   "execution_count": 86,
   "id": "5d27c508-3bb6-4c2d-9da5-c94d2e222cb7",
   "metadata": {},
   "outputs": [],
   "source": [
    "### compile\n",
    "model.compile(optimizer = 'rmsprop',\n",
    "             loss = 'binary_crossentropy',\n",
    "             metrics = ['accuracy'])"
   ]
  },
  {
   "cell_type": "code",
   "execution_count": 87,
   "id": "2b244351-1b6d-4085-beed-d1d30900f8a2",
   "metadata": {},
   "outputs": [],
   "source": [
    "## 검증 세트 준비하기\n",
    "x_val = x_train[:15000]\n",
    "partial_x_train = x_train[15000:]\n",
    "\n",
    "y_val = y_train[:15000]\n",
    "partial_y_train = y_train[15000:]"
   ]
  },
  {
   "cell_type": "code",
   "execution_count": 88,
   "id": "eef27c80-261b-4949-bfba-f10064268b1b",
   "metadata": {},
   "outputs": [
    {
     "name": "stdout",
     "output_type": "stream",
     "text": [
      "Epoch 1/20\n",
      "20/20 [==============================] - 2s 55ms/step - loss: 0.6932 - accuracy: 0.5033 - val_loss: 0.6932 - val_accuracy: 0.4978\n",
      "Epoch 2/20\n",
      "20/20 [==============================] - 0s 25ms/step - loss: 0.6931 - accuracy: 0.5033 - val_loss: 0.6932 - val_accuracy: 0.4978\n",
      "Epoch 3/20\n",
      "20/20 [==============================] - 1s 28ms/step - loss: 0.6931 - accuracy: 0.5033 - val_loss: 0.6932 - val_accuracy: 0.4978\n",
      "Epoch 4/20\n",
      "20/20 [==============================] - 0s 25ms/step - loss: 0.6931 - accuracy: 0.5033 - val_loss: 0.6932 - val_accuracy: 0.4978\n",
      "Epoch 5/20\n",
      "20/20 [==============================] - 1s 27ms/step - loss: 0.6931 - accuracy: 0.5033 - val_loss: 0.6932 - val_accuracy: 0.4978\n",
      "Epoch 6/20\n",
      "20/20 [==============================] - 0s 25ms/step - loss: 0.6931 - accuracy: 0.5033 - val_loss: 0.6932 - val_accuracy: 0.4978\n",
      "Epoch 7/20\n",
      "20/20 [==============================] - 1s 27ms/step - loss: 0.6931 - accuracy: 0.5033 - val_loss: 0.6932 - val_accuracy: 0.4978\n",
      "Epoch 8/20\n",
      "20/20 [==============================] - 0s 24ms/step - loss: 0.6931 - accuracy: 0.5033 - val_loss: 0.6932 - val_accuracy: 0.4978\n",
      "Epoch 9/20\n",
      "20/20 [==============================] - 1s 26ms/step - loss: 0.6931 - accuracy: 0.5033 - val_loss: 0.6932 - val_accuracy: 0.4978\n",
      "Epoch 10/20\n",
      "20/20 [==============================] - 0s 25ms/step - loss: 0.6931 - accuracy: 0.5033 - val_loss: 0.6932 - val_accuracy: 0.4978\n",
      "Epoch 11/20\n",
      "20/20 [==============================] - 0s 24ms/step - loss: 0.6931 - accuracy: 0.5033 - val_loss: 0.6932 - val_accuracy: 0.4978\n",
      "Epoch 12/20\n",
      "20/20 [==============================] - 0s 25ms/step - loss: 0.6931 - accuracy: 0.5033 - val_loss: 0.6932 - val_accuracy: 0.4978\n",
      "Epoch 13/20\n",
      "20/20 [==============================] - 0s 23ms/step - loss: 0.6931 - accuracy: 0.5033 - val_loss: 0.6932 - val_accuracy: 0.4978\n",
      "Epoch 14/20\n",
      "20/20 [==============================] - 0s 24ms/step - loss: 0.6931 - accuracy: 0.5033 - val_loss: 0.6932 - val_accuracy: 0.4978\n",
      "Epoch 15/20\n",
      "20/20 [==============================] - 0s 24ms/step - loss: 0.6931 - accuracy: 0.5033 - val_loss: 0.6932 - val_accuracy: 0.4978\n",
      "Epoch 16/20\n",
      "20/20 [==============================] - 0s 24ms/step - loss: 0.6931 - accuracy: 0.5033 - val_loss: 0.6932 - val_accuracy: 0.4978\n",
      "Epoch 17/20\n",
      "20/20 [==============================] - 1s 26ms/step - loss: 0.6931 - accuracy: 0.5033 - val_loss: 0.6932 - val_accuracy: 0.4978\n",
      "Epoch 18/20\n",
      "20/20 [==============================] - 0s 26ms/step - loss: 0.6931 - accuracy: 0.5033 - val_loss: 0.6932 - val_accuracy: 0.4978\n",
      "Epoch 19/20\n",
      "20/20 [==============================] - 0s 25ms/step - loss: 0.6931 - accuracy: 0.5033 - val_loss: 0.6932 - val_accuracy: 0.4978\n",
      "Epoch 20/20\n",
      "20/20 [==============================] - 0s 24ms/step - loss: 0.6931 - accuracy: 0.5033 - val_loss: 0.6932 - val_accuracy: 0.4978\n"
     ]
    }
   ],
   "source": [
    "## 모델 훈련하기\n",
    "history = model.fit(partial_x_train,\n",
    "                   partial_y_train,\n",
    "                   epochs = 20,\n",
    "                   batch_size = 512,\n",
    "                   validation_data = (x_val, y_val))"
   ]
  },
  {
   "cell_type": "code",
   "execution_count": 89,
   "id": "65da93ee-3a74-4dcb-8c6f-8110cafcc05f",
   "metadata": {},
   "outputs": [
    {
     "data": {
      "text/plain": [
       "dict_keys(['loss', 'accuracy', 'val_loss', 'val_accuracy'])"
      ]
     },
     "execution_count": 89,
     "metadata": {},
     "output_type": "execute_result"
    }
   ],
   "source": [
    "history_dict = history.history\n",
    "history_dict.keys()"
   ]
  },
  {
   "cell_type": "code",
   "execution_count": 90,
   "id": "f8c08c18-5500-48a3-9efc-35371192863f",
   "metadata": {},
   "outputs": [
    {
     "data": {
      "text/plain": [
       "{'loss': [0.6931511163711548,\n",
       "  0.693137526512146,\n",
       "  0.693140983581543,\n",
       "  0.6931366920471191,\n",
       "  0.6931357383728027,\n",
       "  0.6931352615356445,\n",
       "  0.6931337714195251,\n",
       "  0.6931338310241699,\n",
       "  0.6931357979774475,\n",
       "  0.6931312084197998,\n",
       "  0.693138599395752,\n",
       "  0.693134069442749,\n",
       "  0.6931370496749878,\n",
       "  0.6931356191635132,\n",
       "  0.6931342482566833,\n",
       "  0.6931363940238953,\n",
       "  0.6931334137916565,\n",
       "  0.693133533000946,\n",
       "  0.6931396722793579,\n",
       "  0.6931359767913818],\n",
       " 'accuracy': [0.5033000111579895,\n",
       "  0.5033000111579895,\n",
       "  0.5033000111579895,\n",
       "  0.5033000111579895,\n",
       "  0.5033000111579895,\n",
       "  0.5033000111579895,\n",
       "  0.5033000111579895,\n",
       "  0.5033000111579895,\n",
       "  0.5033000111579895,\n",
       "  0.5033000111579895,\n",
       "  0.5033000111579895,\n",
       "  0.5033000111579895,\n",
       "  0.5033000111579895,\n",
       "  0.5033000111579895,\n",
       "  0.5033000111579895,\n",
       "  0.5033000111579895,\n",
       "  0.5033000111579895,\n",
       "  0.5033000111579895,\n",
       "  0.5033000111579895,\n",
       "  0.5033000111579895],\n",
       " 'val_loss': [0.6931629180908203,\n",
       "  0.6931725740432739,\n",
       "  0.6931769251823425,\n",
       "  0.6931776404380798,\n",
       "  0.6931824684143066,\n",
       "  0.6931824684143066,\n",
       "  0.6931912302970886,\n",
       "  0.6931920051574707,\n",
       "  0.6931933164596558,\n",
       "  0.6932047009468079,\n",
       "  0.6932078003883362,\n",
       "  0.6932010650634766,\n",
       "  0.693204402923584,\n",
       "  0.6932028532028198,\n",
       "  0.6932021975517273,\n",
       "  0.6931999325752258,\n",
       "  0.6931942701339722,\n",
       "  0.6931992769241333,\n",
       "  0.6932007670402527,\n",
       "  0.6932007670402527],\n",
       " 'val_accuracy': [0.49779999256134033,\n",
       "  0.49779999256134033,\n",
       "  0.49779999256134033,\n",
       "  0.49779999256134033,\n",
       "  0.49779999256134033,\n",
       "  0.49779999256134033,\n",
       "  0.49779999256134033,\n",
       "  0.49779999256134033,\n",
       "  0.49779999256134033,\n",
       "  0.49779999256134033,\n",
       "  0.49779999256134033,\n",
       "  0.49779999256134033,\n",
       "  0.49779999256134033,\n",
       "  0.49779999256134033,\n",
       "  0.49779999256134033,\n",
       "  0.49779999256134033,\n",
       "  0.49779999256134033,\n",
       "  0.49779999256134033,\n",
       "  0.49779999256134033,\n",
       "  0.49779999256134033]}"
      ]
     },
     "execution_count": 90,
     "metadata": {},
     "output_type": "execute_result"
    }
   ],
   "source": [
    "history_dict"
   ]
  },
  {
   "cell_type": "markdown",
   "id": "6206692e-5145-4a92-8687-7329edf35f6f",
   "metadata": {},
   "source": [
    "- accuracy : 같은 train 데이터로 계속 학습하므로 acccuracy는 계속 높아질 수 밖에 없음\n",
    "- val_acc : train을 반복할 때마다 train set와 비슷한 데이터를 통해 예측률 파악"
   ]
  },
  {
   "cell_type": "code",
   "execution_count": 91,
   "id": "6fb94114-edee-4d71-850d-9c1838c26979",
   "metadata": {},
   "outputs": [
    {
     "data": {
      "image/png": "[encoded data removed]",
      "text/plain": [
       "<Figure size 640x480 with 1 Axes>"
      ]
     },
     "metadata": {},
     "output_type": "display_data"
    }
   ],
   "source": [
    "import matplotlib.pyplot as plt\n",
    "history_dict = history.history\n",
    "loss_values = history_dict[\"loss\"]\n",
    "val_loss_values = history_dict[\"val_loss\"]\n",
    "epochs = range(1, len(loss_values) + 1)\n",
    "plt.plot(epochs, loss_values, \"bo\", label=\"Training loss\")\n",
    "plt.plot(epochs, val_loss_values, \"b\", label=\"Validation loss\")\n",
    "plt.title(\"Training and validation loss\")\n",
    "plt.xlabel(\"Epochs\")\n",
    "plt.ylabel(\"Loss\")\n",
    "plt.legend()\n",
    "plt.show() "
   ]
  },
  {
   "cell_type": "code",
   "execution_count": 92,
   "id": "d939567b-ca9c-436b-bfc8-e35e0c94b8d7",
   "metadata": {},
   "outputs": [
    {
     "data": {
      "image/png": "[encoded data removed]",
      "text/plain": [
       "<Figure size 640x480 with 1 Axes>"
      ]
     },
     "metadata": {},
     "output_type": "display_data"
    }
   ],
   "source": [
    "plt.clf()\n",
    "acc = history_dict[\"accuracy\"]\n",
    "val_acc = history_dict[\"val_accuracy\"]\n",
    "plt.plot(epochs, acc, \"bo\", label=\"Training acc\")\n",
    "plt.plot(epochs, val_acc, \"b\", label=\"Validation acc\")\n",
    "plt.title(\"Training and validation accuracy\")\n",
    "plt.xlabel(\"Epochs\")\n",
    "plt.ylabel(\"Accuracy\")\n",
    "plt.legend()\n",
    "plt.show() "
   ]
  },
  {
   "cell_type": "code",
   "execution_count": 93,
   "id": "7feccc1e-a484-41ed-852e-c651193e7140",
   "metadata": {},
   "outputs": [
    {
     "name": "stdout",
     "output_type": "stream",
     "text": [
      "Epoch 1/4\n",
      "49/49 [==============================] - 1s 12ms/step - loss: 0.6932 - accuracy: 0.4994\n",
      "Epoch 2/4\n",
      "49/49 [==============================] - 1s 12ms/step - loss: 0.6932 - accuracy: 0.4961\n",
      "Epoch 3/4\n",
      "49/49 [==============================] - 1s 11ms/step - loss: 0.6932 - accuracy: 0.4994\n",
      "Epoch 4/4\n",
      "49/49 [==============================] - 1s 11ms/step - loss: 0.6931 - accuracy: 0.4964\n",
      "782/782 [==============================] - 10s 2ms/step - loss: 0.6932 - accuracy: 0.5000\n"
     ]
    }
   ],
   "source": [
    "## 모델을 처음부터 다시 훈련하기\n",
    "model = Sequential()\n",
    "\n",
    "model.add(Dense(16, activation = 'relu'))\n",
    "model.add(Dense(16, activation = 'relu'))\n",
    "model.add(Dense(1, activation = 'sigmoid'))\n",
    "\n",
    "model.compile(optimizer = 'rmsprop',\n",
    "             loss = 'binary_crossentropy',\n",
    "             metrics = 'accuracy')\n",
    "\n",
    "model.fit(x_train, y_train, epochs = 4, batch_size = 512)\n",
    "\n",
    "results = model.evaluate(x_test, y_test)"
   ]
  },
  {
   "cell_type": "code",
   "execution_count": 94,
   "id": "a3db6cee-4f58-4873-9ace-1cb399b19164",
   "metadata": {},
   "outputs": [
    {
     "data": {
      "text/plain": [
       "[0.6931552886962891, 0.4999600052833557]"
      ]
     },
     "execution_count": 94,
     "metadata": {},
     "output_type": "execute_result"
    }
   ],
   "source": [
    "results"
   ]
  },
  {
   "cell_type": "code",
   "execution_count": 97,
   "id": "94037050-bcb0-4257-992c-498e372db8e4",
   "metadata": {},
   "outputs": [
    {
     "name": "stdout",
     "output_type": "stream",
     "text": [
      "782/782 [==============================] - 1s 2ms/step\n"
     ]
    },
    {
     "data": {
      "text/plain": [
       "array([[0.58645797],\n",
       "       [0.4995112 ],\n",
       "       [0.4995112 ],\n",
       "       ...,\n",
       "       [0.4995112 ],\n",
       "       [0.4995112 ],\n",
       "       [0.4995112 ]], dtype=float32)"
      ]
     },
     "execution_count": 97,
     "metadata": {},
     "output_type": "execute_result"
    }
   ],
   "source": [
    "preds = model.predict(x_test)\n",
    "preds"
   ]
  },
  {
   "cell_type": "code",
   "execution_count": 98,
   "id": "3306e9e9-0fd6-4853-bc59-501d5c44b96f",
   "metadata": {},
   "outputs": [
    {
     "data": {
      "text/plain": [
       "array([[0.58645797],\n",
       "       [0.4995112 ],\n",
       "       [0.4995112 ],\n",
       "       [0.4995112 ]], dtype=float32)"
      ]
     },
     "execution_count": 98,
     "metadata": {},
     "output_type": "execute_result"
    }
   ],
   "source": [
    "preds[:4]"
   ]
  },
  {
   "cell_type": "code",
   "execution_count": null,
   "id": "94bdfed3-edc4-490e-aaa1-9cc676c98eb7",
   "metadata": {},
   "outputs": [],
   "source": []
  }
 ],
 "metadata": {
  "kernelspec": {
   "display_name": "Python 3 (ipykernel)",
   "language": "python",
   "name": "python3"
  },
  "language_info": {
   "codemirror_mode": {
    "name": "ipython",
    "version": 3
   },
   "file_extension": ".py",
   "mimetype": "text/x-python",
   "name": "python",
   "nbconvert_exporter": "python",
   "pygments_lexer": "ipython3",
   "version": "3.10.6"
  }
 },
 "nbformat": 4,
 "nbformat_minor": 5
}
